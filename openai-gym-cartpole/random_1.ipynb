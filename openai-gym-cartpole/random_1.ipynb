{
 "cells": [
  {
   "cell_type": "code",
   "execution_count": 21,
   "id": "bf57714b",
   "metadata": {},
   "outputs": [],
   "source": [
    "import gym"
   ]
  },
  {
   "cell_type": "code",
   "execution_count": 22,
   "id": "f51c81b6",
   "metadata": {},
   "outputs": [],
   "source": [
    "if __name__ == \"__main__\":\n",
    "    env = gym.make(\"CartPole-v0\")\n",
    "    total_reward = 0.0\n",
    "    total_steps = 0\n",
    "    obs = env.reset()"
   ]
  },
  {
   "cell_type": "code",
   "execution_count": 23,
   "id": "d44b589f",
   "metadata": {},
   "outputs": [],
   "source": [
    "while True:\n",
    "    action = env.action_space.sample()\n",
    "    obs, reward, terminated, _, _= env.step(action)\n",
    "    total_reward += reward\n",
    "    total_steps += 1\n",
    "    if terminated:\n",
    "        break"
   ]
  },
  {
   "cell_type": "code",
   "execution_count": 24,
   "id": "96f448f2",
   "metadata": {},
   "outputs": [
    {
     "name": "stdout",
     "output_type": "stream",
     "text": [
      "Episode done in 21 steps, total reward 21.00\n"
     ]
    }
   ],
   "source": [
    "print(\"Episode done in %d steps, total reward %.2f\" % (total_steps, total_reward))\n"
   ]
  }
 ],
 "metadata": {
  "kernelspec": {
   "display_name": "venv",
   "language": "python",
   "name": "python3"
  },
  "language_info": {
   "codemirror_mode": {
    "name": "ipython",
    "version": 3
   },
   "file_extension": ".py",
   "mimetype": "text/x-python",
   "name": "python",
   "nbconvert_exporter": "python",
   "pygments_lexer": "ipython3",
   "version": "3.11.2"
  },
  "vscode": {
   "interpreter": {
    "hash": "af0bfae74fe516308989892bdf7e43d9e230d1578aa138256c3e664d707ab3df"
   }
  }
 },
 "nbformat": 4,
 "nbformat_minor": 5
}
